{
 "cells": [
  {
   "cell_type": "code",
   "execution_count": 1,
   "id": "a4a16164",
   "metadata": {},
   "outputs": [],
   "source": [
    "import pickle as pkl\n",
    "from transformer_raw.modules import encoder, decoder\n",
    "def load(path : str) -> None:\n",
    "\tpickle_encoder = open(f'{path}/encoder.pkl', 'rb')\n",
    "\tpickle_decoder = open(f'{path}/decoder.pkl', 'rb')\n",
    "\t# print(type(self.encoder.dropout.scale))\n",
    "\n",
    "\tencoder = pkl.load(pickle_encoder)\n",
    "\tdecoder = pkl.load(pickle_decoder)\n",
    "\tpickle_encoder.close()\n",
    "\tpickle_decoder.close()\n",
    "\treturn encoder, decoder\n"
   ]
  },
  {
   "cell_type": "code",
   "execution_count": 2,
   "id": "ad871a2f",
   "metadata": {},
   "outputs": [],
   "source": [
    "path = \"./saved_models/seq2seq_model/10\"\n",
    "encoder, decoder = load(path)\n"
   ]
  },
  {
   "cell_type": "code",
   "execution_count": 3,
   "id": "77ebcdff",
   "metadata": {},
   "outputs": [
    {
     "data": {
      "text/plain": [
       "array([[ 0.05060973, -0.04148768,  0.01022771, ..., -0.04246638,\n",
       "         0.03684648,  0.03228686],\n",
       "       [ 0.02292799,  0.00066971,  0.04401567, ...,  0.04953277,\n",
       "         0.00582354, -0.01646453],\n",
       "       [-0.05573905, -0.00559234,  0.0030537 , ...,  0.02988779,\n",
       "        -0.06115827, -0.04564564],\n",
       "       ...,\n",
       "       [ 0.02449939, -0.03783581,  0.04394244, ..., -0.00181951,\n",
       "        -0.01485202, -0.02642046],\n",
       "       [-0.00151512, -0.09452108,  0.07570018, ...,  0.04546585,\n",
       "        -0.07477983, -0.02964973],\n",
       "       [ 0.0266874 ,  0.03324678, -0.0059617 , ..., -0.04180157,\n",
       "        -0.00888584, -0.03500656]], dtype=float32)"
      ]
     },
     "execution_count": 3,
     "metadata": {},
     "output_type": "execute_result"
    }
   ],
   "source": [
    "encoder.layers[1].self_attention.K_linear.w"
   ]
  },
  {
   "cell_type": "code",
   "execution_count": null,
   "id": "f5815924",
   "metadata": {},
   "outputs": [],
   "source": [
    "import numpy as np\n",
    "w = np.random.rand(10, 20)\n",
    "a = np.random.rand(10, 20)\n"
   ]
  },
  {
   "cell_type": "code",
   "execution_count": 44,
   "id": "dfe18503",
   "metadata": {},
   "outputs": [],
   "source": [
    "from client_side.utils import Utils\n",
    "import tenseal as ts\n",
    "utils = Utils(\"./keys\")\n"
   ]
  },
  {
   "cell_type": "code",
   "execution_count": 45,
   "id": "b5e6e282",
   "metadata": {},
   "outputs": [],
   "source": [
    "a = np.random.rand(11, 256)\n",
    "b = np.random.rand(256, 256)"
   ]
  },
  {
   "cell_type": "code",
   "execution_count": 47,
   "id": "78827c28",
   "metadata": {},
   "outputs": [],
   "source": [
    "a_ = utils.encrypt_matrix(a)"
   ]
  },
  {
   "cell_type": "code",
   "execution_count": null,
   "id": "cd011b1d",
   "metadata": {},
   "outputs": [],
   "source": []
  },
  {
   "cell_type": "code",
   "execution_count": null,
   "id": "0855cab9",
   "metadata": {},
   "outputs": [],
   "source": [
    "b_ = utils.encrypt_matrix(b)"
   ]
  },
  {
   "cell_type": "code",
   "execution_count": null,
   "id": "aa29befa",
   "metadata": {},
   "outputs": [
    {
     "data": {
      "text/plain": [
       "True"
      ]
     },
     "execution_count": 43,
     "metadata": {},
     "output_type": "execute_result"
    }
   ],
   "source": [
    "\n",
    "x = a.dot(b)\n",
    "x_ = a_.dot(b_)"
   ]
  }
 ],
 "metadata": {
  "kernelspec": {
   "display_name": "dacn",
   "language": "python",
   "name": "python3"
  },
  "language_info": {
   "codemirror_mode": {
    "name": "ipython",
    "version": 3
   },
   "file_extension": ".py",
   "mimetype": "text/x-python",
   "name": "python",
   "nbconvert_exporter": "python",
   "pygments_lexer": "ipython3",
   "version": "3.12.9"
  }
 },
 "nbformat": 4,
 "nbformat_minor": 5
}
