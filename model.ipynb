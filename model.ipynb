{
 "cells": [
  {
   "cell_type": "code",
   "execution_count": 1,
   "id": "a4a16164",
   "metadata": {},
   "outputs": [],
   "source": [
    "import pickle as pkl\n",
    "from transformer_raw.modules import encoder, decoder\n",
    "def load(path : str) -> None:\n",
    "\tpickle_encoder = open(f'{path}/encoder.pkl', 'rb')\n",
    "\tpickle_decoder = open(f'{path}/decoder.pkl', 'rb')\n",
    "\t# print(type(self.encoder.dropout.scale))\n",
    "\n",
    "\tencoder = pkl.load(pickle_encoder)\n",
    "\tdecoder = pkl.load(pickle_decoder)\n",
    "\tpickle_encoder.close()\n",
    "\tpickle_decoder.close()\n",
    "\treturn encoder, decoder\n"
   ]
  },
  {
   "cell_type": "code",
   "execution_count": 2,
   "id": "ad871a2f",
   "metadata": {},
   "outputs": [],
   "source": [
    "path = \"./saved_models/seq2seq_model/10\"\n",
    "encoder, decoder = load(path)\n"
   ]
  },
  {
   "cell_type": "code",
   "execution_count": 3,
   "id": "f5815924",
   "metadata": {},
   "outputs": [],
   "source": [
    "import numpy as np\n",
    "a = np.random.rand(1, 10, 20)\n",
    "b = np.random.rand(20, 30)\n",
    "c = np.random.rand(10, 30)\n"
   ]
  },
  {
   "cell_type": "code",
   "execution_count": 4,
   "id": "dfe18503",
   "metadata": {},
   "outputs": [],
   "source": [
    "from transformer.utils import Utils\n",
    "import tenseal as ts\n",
    "utils = Utils(\"./keys\")\n"
   ]
  },
  {
   "cell_type": "code",
   "execution_count": 5,
   "id": "b5e6e282",
   "metadata": {},
   "outputs": [],
   "source": [
    "a_ = utils.encrypt_matrix(a)\n",
    "b_ = utils.encrypt_matrix(b)\n",
    "c_ = utils.encrypt_matrix(c)\n"
   ]
  },
  {
   "cell_type": "code",
   "execution_count": 6,
   "id": "e80fa4ff",
   "metadata": {},
   "outputs": [
    {
     "data": {
      "text/plain": [
       "[<tenseal.tensors.ckkstensor.CKKSTensor at 0x78ed843b6fd0>]"
      ]
     },
     "execution_count": 6,
     "metadata": {},
     "output_type": "execute_result"
    }
   ],
   "source": [
    "Utils.add(Utils.dot(a_, b_), c_)"
   ]
  },
  {
   "cell_type": "code",
   "execution_count": null,
   "id": "1dacb633",
   "metadata": {},
   "outputs": [
    {
     "ename": "TypeError",
     "evalue": "unsupported operand type(s) for /: 'CKKSTensor' and 'int'",
     "output_type": "error",
     "traceback": [
      "\u001b[0;31m---------------------------------------------------------------------------\u001b[0m",
      "\u001b[0;31mTypeError\u001b[0m                                 Traceback (most recent call last)",
      "Cell \u001b[0;32mIn[8], line 1\u001b[0m\n\u001b[0;32m----> 1\u001b[0m \u001b[43ma_\u001b[49m\u001b[38;5;241;43m.\u001b[39;49m\u001b[43msum\u001b[49m\u001b[43m(\u001b[49m\u001b[43maxis\u001b[49m\u001b[38;5;241;43m=\u001b[39;49m\u001b[38;5;241;43m0\u001b[39;49m\u001b[43m)\u001b[49m\u001b[43m \u001b[49m\u001b[38;5;241;43m/\u001b[39;49m\u001b[43m \u001b[49m\u001b[38;5;241;43m10\u001b[39;49m\n",
      "\u001b[0;31mTypeError\u001b[0m: unsupported operand type(s) for /: 'CKKSTensor' and 'int'"
     ]
    }
   ],
   "source": [
    "a_.sum(axis=0)"
   ]
  },
  {
   "cell_type": "code",
   "execution_count": 29,
   "id": "aade7809",
   "metadata": {},
   "outputs": [
    {
     "name": "stdout",
     "output_type": "stream",
     "text": [
      "X_centered <class 'cupy.ndarray'>\n",
      "X_hat <class 'cupy.ndarray'>\n",
      "X_hat_T <class 'cupy.ndarray'>\n",
      "__class__ <class 'type'>\n",
      "__delattr__ <class 'method-wrapper'>\n",
      "__dict__ <class 'dict'>\n",
      "__dir__ <class 'builtin_function_or_method'>\n",
      "__doc__ <class 'str'>\n",
      "__eq__ <class 'method-wrapper'>\n",
      "__format__ <class 'builtin_function_or_method'>\n",
      "__ge__ <class 'method-wrapper'>\n",
      "__getattribute__ <class 'method-wrapper'>\n",
      "__gt__ <class 'method-wrapper'>\n",
      "__hash__ <class 'method-wrapper'>\n",
      "__init__ <class 'method'>\n",
      "__init_subclass__ <class 'builtin_function_or_method'>\n",
      "__le__ <class 'method-wrapper'>\n",
      "__lt__ <class 'method-wrapper'>\n",
      "__module__ <class 'str'>\n",
      "__ne__ <class 'method-wrapper'>\n",
      "__new__ <class 'builtin_function_or_method'>\n",
      "__reduce__ <class 'builtin_function_or_method'>\n",
      "__reduce_ex__ <class 'builtin_function_or_method'>\n",
      "__repr__ <class 'method-wrapper'>\n",
      "__setattr__ <class 'method-wrapper'>\n",
      "__sizeof__ <class 'builtin_function_or_method'>\n",
      "__str__ <class 'method-wrapper'>\n",
      "__subclasshook__ <class 'builtin_function_or_method'>\n",
      "__weakref__ <class 'NoneType'>\n",
      "axis <class 'NoneType'>\n",
      "backward <class 'method'>\n",
      "beta <class 'cupy.ndarray'>\n",
      "build <class 'method'>\n",
      "data_type <class 'type'>\n",
      "epsilon <class 'float'>\n",
      "feature_size <class 'int'>\n",
      "forward <class 'method'>\n",
      "gamma <class 'cupy.ndarray'>\n",
      "get_grads <class 'method'>\n",
      "grad_beta <class 'cupy.ndarray'>\n",
      "grad_gamma <class 'cupy.ndarray'>\n",
      "input_data <class 'cupy.ndarray'>\n",
      "mb <class 'cupy.ndarray'>\n",
      "mb_hat <class 'cupy.ndarray'>\n",
      "mean <class 'cupy.ndarray'>\n",
      "mg <class 'cupy.ndarray'>\n",
      "mg_hat <class 'cupy.ndarray'>\n",
      "normalized_axis <class 'tuple'>\n",
      "normalized_shape <class 'int'>\n",
      "optimizer <class 'transformer_raw.optimizers.Noam'>\n",
      "output_data <class 'cupy.ndarray'>\n",
      "set_encrypted_weights <class 'method'>\n",
      "set_grads <class 'method'>\n",
      "stddev_inv <class 'cupy.ndarray'>\n",
      "update_weights <class 'method'>\n",
      "var <class 'cupy.ndarray'>\n",
      "vb <class 'cupy.ndarray'>\n",
      "vb_hat <class 'cupy.ndarray'>\n",
      "vg <class 'cupy.ndarray'>\n",
      "vg_hat <class 'cupy.ndarray'>\n"
     ]
    }
   ],
   "source": [
    "# encoder.layers[1].self_attention_norm.mean\n",
    "for a in dir(encoder.layers[1].self_attention_norm):\n",
    "    print(a, type(getattr(encoder.layers[1].self_attention_norm, a)))"
   ]
  },
  {
   "cell_type": "code",
   "execution_count": 35,
   "id": "4eecf611",
   "metadata": {},
   "outputs": [
    {
     "data": {
      "text/plain": [
       "array([0.9605953 , 0.9549152 , 0.9577089 , 0.9563332 , 0.96982545,\n",
       "       0.9721862 , 0.9561439 , 0.9783119 , 0.94856805, 0.953382  ,\n",
       "       0.9568297 , 0.9689791 , 0.9862741 , 0.9486799 , 0.983441  ,\n",
       "       0.9821607 , 0.98131007, 0.9730909 , 0.95639366, 0.98116434,\n",
       "       0.9987282 , 0.9554608 , 0.98918504, 0.9885775 , 0.9793623 ,\n",
       "       0.9857581 , 1.0119499 , 0.99518585, 0.9911405 , 0.9889349 ,\n",
       "       0.997596  , 0.9921837 , 0.9757211 , 0.9795134 , 0.98677254,\n",
       "       0.97748065, 0.98843163, 0.99316126, 0.9832341 , 0.9808629 ,\n",
       "       1.012922  , 1.0054351 , 1.0028776 , 1.0000676 , 1.0001994 ,\n",
       "       0.9945393 , 0.9885234 , 0.98416376, 0.99449   , 1.0142816 ,\n",
       "       1.004744  , 0.9809359 , 1.0124128 , 0.99340117, 1.0092438 ,\n",
       "       1.002525  , 1.0083561 , 1.0069402 , 0.9982357 , 1.0167228 ,\n",
       "       1.0040596 , 0.9994529 , 1.0082628 , 1.0004683 , 1.011697  ,\n",
       "       1.018056  , 1.0118322 , 1.0088199 , 1.0317036 , 0.987085  ,\n",
       "       1.0133885 , 0.9970365 , 1.0097002 , 1.0087776 , 1.024448  ,\n",
       "       1.0023586 , 1.0375139 , 0.9958585 , 1.0202796 , 0.99850047,\n",
       "       1.0385119 , 0.98884284, 1.027191  , 1.0019953 , 1.0292512 ,\n",
       "       0.9942506 , 1.0296315 , 1.0075395 , 1.046441  , 0.9959148 ,\n",
       "       1.0406575 , 0.98975676, 1.038263  , 0.98050475, 1.0359447 ,\n",
       "       0.99453884, 1.0394881 , 0.9958702 , 1.0371835 , 0.9821114 ,\n",
       "       1.0329906 , 1.0048324 , 1.0203372 , 0.97771674, 1.0344579 ,\n",
       "       1.0021558 , 1.0396731 , 0.9953317 , 1.0209423 , 0.99647254,\n",
       "       1.0272659 , 0.9898018 , 1.0331525 , 0.9803116 , 1.0268694 ,\n",
       "       1.0213076 , 1.039162  , 0.99813926, 1.0275729 , 1.0012499 ,\n",
       "       1.03056   , 0.9834799 , 1.0083185 , 0.9908536 , 1.0363786 ,\n",
       "       0.98112065, 1.0302866 , 0.98244506, 1.0388377 , 1.0040289 ,\n",
       "       1.0166606 , 0.98495805, 1.0193331 , 1.0011841 , 1.0411924 ,\n",
       "       0.98485357, 1.052168  , 0.9678313 , 1.0358425 , 0.99921644,\n",
       "       1.0328097 , 0.9921524 , 1.0233727 , 1.0164628 , 1.0392224 ,\n",
       "       0.9930102 , 1.0273659 , 0.9917133 , 1.0348364 , 0.98286647,\n",
       "       1.0513458 , 0.9859781 , 1.0312787 , 0.9930369 , 1.016627  ,\n",
       "       0.9922961 , 1.0236113 , 0.9792608 , 1.0409362 , 0.98589206,\n",
       "       1.0331055 , 1.014101  , 1.0395852 , 1.0091305 , 1.0330516 ,\n",
       "       0.9782253 , 1.0283136 , 0.9871971 , 1.0452594 , 0.9947271 ,\n",
       "       1.049013  , 0.99159324, 1.0172853 , 1.0019845 , 1.0166982 ,\n",
       "       0.9806864 , 1.0336927 , 0.98764575, 1.0352618 , 0.999889  ,\n",
       "       1.0283364 , 0.9851731 , 1.0459285 , 1.0276643 , 1.0237054 ,\n",
       "       0.9948885 , 1.0343356 , 0.9867829 , 1.0188993 , 0.99713206,\n",
       "       1.0366726 , 0.99052775, 1.0399885 , 0.9942968 , 1.0201664 ,\n",
       "       0.9997646 , 1.0352812 , 0.9835281 , 1.0342122 , 1.0077296 ,\n",
       "       1.0330571 , 1.0062686 , 1.0374266 , 0.98694474, 1.020255  ,\n",
       "       1.0025457 , 1.0471493 , 0.9803914 , 1.0157346 , 0.99084485,\n",
       "       1.0351467 , 0.98287183, 1.0330338 , 0.96459883, 1.0197248 ,\n",
       "       1.004115  , 1.021136  , 0.97361237, 1.0386727 , 1.0021882 ,\n",
       "       1.0366408 , 0.9994743 , 1.0407604 , 0.98462856, 1.0260037 ,\n",
       "       0.9890336 , 1.0335355 , 1.0020268 , 1.0477104 , 0.9988747 ,\n",
       "       1.0342389 , 0.9929981 , 1.0565181 , 0.9786792 , 1.0389029 ,\n",
       "       0.9850611 , 1.0186834 , 0.9921586 , 1.0478108 , 1.0009462 ,\n",
       "       1.0308483 , 0.98857206, 1.0188795 , 0.9992594 , 1.030694  ,\n",
       "       0.98792547, 1.0230556 , 0.98596007, 1.0275989 , 1.01433   ,\n",
       "       1.0082147 , 0.9768958 , 1.0334    , 0.9907896 , 1.0412995 ,\n",
       "       0.9966783 ], dtype=float32)"
      ]
     },
     "execution_count": 35,
     "metadata": {},
     "output_type": "execute_result"
    }
   ],
   "source": [
    "encoder.layers[1].self_attention_norm.gamma"
   ]
  },
  {
   "cell_type": "code",
   "execution_count": null,
   "id": "0342350a",
   "metadata": {},
   "outputs": [
    {
     "data": {
      "text/plain": [
       "<tenseal.tensors.ckkstensor.CKKSTensor at 0x7ea54e5ab9d0>"
      ]
     },
     "execution_count": 34,
     "metadata": {},
     "output_type": "execute_result"
    }
   ],
   "source": []
  },
  {
   "cell_type": "code",
   "execution_count": null,
   "id": "e09b23b6",
   "metadata": {},
   "outputs": [],
   "source": []
  }
 ],
 "metadata": {
  "kernelspec": {
   "display_name": "dacn",
   "language": "python",
   "name": "python3"
  },
  "language_info": {
   "codemirror_mode": {
    "name": "ipython",
    "version": 3
   },
   "file_extension": ".py",
   "mimetype": "text/x-python",
   "name": "python",
   "nbconvert_exporter": "python",
   "pygments_lexer": "ipython3",
   "version": "3.8.20"
  }
 },
 "nbformat": 4,
 "nbformat_minor": 5
}
