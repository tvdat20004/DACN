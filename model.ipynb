{
 "cells": [
  {
   "cell_type": "code",
   "execution_count": null,
   "id": "a4a16164",
   "metadata": {},
   "outputs": [],
   "source": [
    "import pickle as pkl\n",
    "from transformer_raw.modules import encoder, decoder\n",
    "def load(path : str) -> None:\n",
    "\tpickle_encoder = open(f'{path}/encoder.pkl', 'rb')\n",
    "\tpickle_decoder = open(f'{path}/decoder.pkl', 'rb')\n",
    "\t# print(type(self.encoder.dropout.scale))\n",
    "\n",
    "\tencoder = pkl.load(pickle_encoder)\n",
    "\tdecoder = pkl.load(pickle_decoder)\n",
    "\tpickle_encoder.close()\n",
    "\tpickle_decoder.close()\n",
    "\treturn encoder, decoder\n"
   ]
  },
  {
   "cell_type": "code",
   "execution_count": 2,
   "id": "ad871a2f",
   "metadata": {},
   "outputs": [],
   "source": [
    "path = \"./saved_models/seq2seq_model/10\"\n",
    "encoder, decoder = load(path)\n"
   ]
  },
  {
   "cell_type": "code",
   "execution_count": 3,
   "id": "f5815924",
   "metadata": {},
   "outputs": [],
   "source": [
    "import cupy as np\n",
    "a = np.random.rand(5, 10, 20)\n",
    "b = np.random.rand(20, 30)\n",
    "c = np.random.rand(10, 30)\n"
   ]
  },
  {
   "cell_type": "code",
   "execution_count": 4,
   "id": "dfe18503",
   "metadata": {},
   "outputs": [],
   "source": [
    "from transformer.utils import Utils\n",
    "import tenseal as ts\n",
    "utils = Utils(\"./keys\", has_secret_key=True)\n"
   ]
  },
  {
   "cell_type": "code",
   "execution_count": 5,
   "id": "b5e6e282",
   "metadata": {},
   "outputs": [],
   "source": [
    "a_ = utils.encrypt_matrix(a)\n",
    "b_ = utils.encrypt_matrix(b)\n",
    "c_ = utils.encrypt_matrix(c)\n"
   ]
  },
  {
   "cell_type": "code",
   "execution_count": 11,
   "id": "4eecf611",
   "metadata": {},
   "outputs": [],
   "source": [
    "aa = a_.reshape([1,5,10,20])\n",
    "aa = aa[0].reshape([5,10,20])\n"
   ]
  },
  {
   "cell_type": "code",
   "execution_count": null,
   "id": "1570c4f5",
   "metadata": {},
   "outputs": [],
   "source": [
    "res = Utils.dot(a_, b_)"
   ]
  },
  {
   "cell_type": "code",
   "execution_count": 48,
   "id": "0342350a",
   "metadata": {},
   "outputs": [
    {
     "name": "stdout",
     "output_type": "stream",
     "text": [
      "(1,)\n",
      "(1,)\n",
      "(1,)\n",
      "(1,)\n",
      "(1,)\n",
      "(1,)\n",
      "(1,)\n",
      "(1,)\n",
      "(1,)\n",
      "(1,)\n",
      "(1,)\n",
      "(1,)\n",
      "(1,)\n",
      "(1,)\n",
      "(1,)\n",
      "(1,)\n",
      "(1,)\n",
      "(1,)\n",
      "(1,)\n",
      "(1,)\n",
      "(1,)\n",
      "(1,)\n",
      "(1,)\n",
      "(1,)\n",
      "(1,)\n",
      "(1,)\n",
      "(1,)\n",
      "(1,)\n",
      "(1,)\n",
      "(1,)\n",
      "(1,)\n",
      "(1,)\n",
      "(1,)\n",
      "(1,)\n",
      "(1,)\n",
      "(1,)\n",
      "(1,)\n",
      "(1,)\n",
      "(1,)\n",
      "(1,)\n",
      "(1,)\n",
      "(1,)\n",
      "(1,)\n",
      "(1,)\n",
      "(1,)\n",
      "(1,)\n",
      "(1,)\n",
      "(1,)\n",
      "(1,)\n",
      "(1,)\n",
      "(1,)\n",
      "(1,)\n",
      "(1,)\n",
      "(1,)\n",
      "(1,)\n",
      "(1,)\n",
      "(1,)\n",
      "(1,)\n",
      "(1,)\n",
      "(1,)\n",
      "[[[ 0.  1.  2.  3.  4.]\n",
      "  [ 5.  6.  7.  8.  9.]\n",
      "  [10. 11. 12. 13. 14.]\n",
      "  [15. 16. 17. 18. 19.]]\n",
      "\n",
      " [[20. 21. 22. 23. 24.]\n",
      "  [25. 26. 27. 28. 29.]\n",
      "  [30. 31. 32. 33. 34.]\n",
      "  [35. 36. 37. 38. 39.]]\n",
      "\n",
      " [[40. 41. 42. 43. 44.]\n",
      "  [45. 46. 47. 48. 49.]\n",
      "  [50. 51. 52. 53. 54.]\n",
      "  [55. 56. 57. 58. 59.]]]\n"
     ]
    }
   ],
   "source": [
    "from typing import Tuple\n",
    "def transpose_manual(X : ts.CKKSTensor, axes : Tuple[int]) -> ts.CKKSTensor:\n",
    "\tdim = len(axes)\n",
    "\tshape_old = X.shape\n",
    "\tshape_new = [shape_old[ax] for ax in axes]\n",
    "\tX_array = np.empty(shape_old)\n",
    "\t# def set_value(idx, value):\n",
    "\t# \tif len(idx) == 1:\n",
    "\t# \t\tX_array[idx[0]] = value\n",
    "\t# \telse:\n",
    "\t# \t\tset_value(idx[1:], value)\n",
    "\tdef iterate(arr, idx, dim):\n",
    "\t\tif dim == len(shape_old):\n",
    "\t\t\tfor j in range(shape_old[-1]):\n",
    "\t\t\t\telement = np.array([arr[j]])\n",
    "\t\t\t\tprint(element.shape)\n",
    "\t\t\t\tX_array[tuple(idx + [j])] = element\n",
    "\t\t\treturn\n",
    "\t\telse:\n",
    "\t\t\tfor i in range(shape_old[dim-1]):\n",
    "\t\t\t\telement = arr[i].reshape(arr.shape[1:])\n",
    "\t\t\t\t# print(element)\n",
    "\t\t\t\titerate(element, idx + [i], dim + 1)\n",
    "\t# print(shape_old)\n",
    "\n",
    "\titerate(X, [], 1)\n",
    "\tprint(X_array)\n",
    "\n",
    "a = np.arange(3*4*5).reshape((3, 4, 5))\n",
    "transpose_manual(a, (1, 0, 2))"
   ]
  },
  {
   "cell_type": "code",
   "execution_count": null,
   "id": "c54aa5d2",
   "metadata": {},
   "outputs": [],
   "source": []
  }
 ],
 "metadata": {
  "kernelspec": {
   "display_name": "dacn",
   "language": "python",
   "name": "python3"
  },
  "language_info": {
   "codemirror_mode": {
    "name": "ipython",
    "version": 3
   },
   "file_extension": ".py",
   "mimetype": "text/x-python",
   "name": "python",
   "nbconvert_exporter": "python",
   "pygments_lexer": "ipython3",
   "version": "3.12.9"
  }
 },
 "nbformat": 4,
 "nbformat_minor": 5
}
