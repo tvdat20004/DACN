{
 "cells": [
  {
   "cell_type": "code",
   "execution_count": 2,
   "id": "a4a16164",
   "metadata": {},
   "outputs": [],
   "source": [
    "import pickle as pkl\n",
    "from transformer_raw.modules import encoder, decoder\n",
    "def load(path : str) -> None:\n",
    "\tpickle_encoder = open(f'{path}/encoder.pkl', 'rb')\n",
    "\tpickle_decoder = open(f'{path}/decoder.pkl', 'rb')\n",
    "\t# print(type(self.encoder.dropout.scale))\n",
    "\n",
    "\tencoder = pkl.load(pickle_encoder)\n",
    "\tdecoder = pkl.load(pickle_decoder)\n",
    "\tpickle_encoder.close()\n",
    "\tpickle_decoder.close()\n",
    "\treturn encoder, decoder\n"
   ]
  },
  {
   "cell_type": "code",
   "execution_count": 3,
   "id": "ad871a2f",
   "metadata": {},
   "outputs": [],
   "source": [
    "path = \"./saved_models/seq2seq_model/10\"\n",
    "encoder, decoder = load(path)\n"
   ]
  },
  {
   "cell_type": "code",
   "execution_count": 13,
   "id": "f5815924",
   "metadata": {},
   "outputs": [],
   "source": [
    "import cupy as np\n",
    "a = np.random.rand(5, 10, 20)\n",
    "b = np.random.rand(20, 30)\n",
    "c = np.random.rand(10, 30)\n"
   ]
  },
  {
   "cell_type": "code",
   "execution_count": 14,
   "id": "dfe18503",
   "metadata": {},
   "outputs": [],
   "source": [
    "from transformer.utils import Utils\n",
    "import tenseal as ts\n",
    "utils = Utils(\"./keys\")\n"
   ]
  },
  {
   "cell_type": "code",
   "execution_count": 15,
   "id": "b5e6e282",
   "metadata": {},
   "outputs": [],
   "source": [
    "a_ = utils.encrypt_matrix(a)\n",
    "b_ = utils.encrypt_matrix(b)\n",
    "c_ = utils.encrypt_matrix(c)\n"
   ]
  },
  {
   "cell_type": "code",
   "execution_count": 16,
   "id": "8b86a584",
   "metadata": {},
   "outputs": [],
   "source": [
    "a_T = a_.transpose()\n",
    "mean = utils.mean(a_T, axis=0)\n",
    "var = utils.var(a_T, axis=0)"
   ]
  },
  {
   "cell_type": "code",
   "execution_count": 33,
   "id": "8b1b703e",
   "metadata": {},
   "outputs": [
    {
     "name": "stdout",
     "output_type": "stream",
     "text": [
      "<tenseal.tensors.ckkstensor.CKKSTensor object at 0x736568174bb0>\n"
     ]
    }
   ],
   "source": [
    "from typing import Union\n",
    "def x_power_n(X: ts.CKKSTensor, n : Union[int, float] , mean : float = None) -> ts.CKKSTensor:\n",
    "\t# Approximating Square Roots with Taylor Series\n",
    "\tif type(n) is int and n > 0:\n",
    "\t\treturn X ** n\n",
    "\telse:\n",
    "\t\tassert mean is not None, \"Mean must be provided for non-integer powers\"\n",
    "\t\tdef fx(x : float) -> float:\n",
    "\t\t\treturn pow(x, n)\n",
    "\t\tdef fx_(x : float) -> float:\n",
    "\t\t\treturn n * pow(x, n - 1)\n",
    "\t\tdef fx__(x : float) -> float:\n",
    "\t\t\treturn n*(n-1) * pow(x, n-2)\n",
    "\t\treturn fx(mean) + fx_(mean) * (X - mean) + 1/2 * fx__(mean) * (X - mean) ** 2\n",
    "x_centered = a_T - mean\n",
    "stddev_inv = x_power_n(var + 0.0001, -0.5, mean=1.0)\n",
    "X_hat = (x_centered * stddev_inv).transpose()\n",
    "print(X_hat)"
   ]
  },
  {
   "cell_type": "code",
   "execution_count": 41,
   "id": "e87264d7",
   "metadata": {},
   "outputs": [
    {
     "data": {
      "text/plain": [
       "[20]"
      ]
     },
     "execution_count": 41,
     "metadata": {},
     "output_type": "execute_result"
    }
   ],
   "source": [
    "gamma = utils.encrypt_matrix(np.random.rand(20))\n",
    "beta = utils.encrypt_matrix(np.random.rand(20))\n",
    "gamma.shape\n",
    "# output_data = gamma * X_hat + beta\n",
    "# print(output_data.shape)\n"
   ]
  },
  {
   "cell_type": "code",
   "execution_count": null,
   "id": "aade7809",
   "metadata": {},
   "outputs": [
    {
     "name": "stdout",
     "output_type": "stream",
     "text": [
      "X_centered <class 'cupy.ndarray'>\n",
      "X_hat <class 'cupy.ndarray'>\n",
      "X_hat_T <class 'cupy.ndarray'>\n",
      "__class__ <class 'type'>\n",
      "__delattr__ <class 'method-wrapper'>\n",
      "__dict__ <class 'dict'>\n",
      "__dir__ <class 'builtin_function_or_method'>\n",
      "__doc__ <class 'str'>\n",
      "__eq__ <class 'method-wrapper'>\n",
      "__format__ <class 'builtin_function_or_method'>\n",
      "__ge__ <class 'method-wrapper'>\n",
      "__getattribute__ <class 'method-wrapper'>\n",
      "__gt__ <class 'method-wrapper'>\n",
      "__hash__ <class 'method-wrapper'>\n",
      "__init__ <class 'method'>\n",
      "__init_subclass__ <class 'builtin_function_or_method'>\n",
      "__le__ <class 'method-wrapper'>\n",
      "__lt__ <class 'method-wrapper'>\n",
      "__module__ <class 'str'>\n",
      "__ne__ <class 'method-wrapper'>\n",
      "__new__ <class 'builtin_function_or_method'>\n",
      "__reduce__ <class 'builtin_function_or_method'>\n",
      "__reduce_ex__ <class 'builtin_function_or_method'>\n",
      "__repr__ <class 'method-wrapper'>\n",
      "__setattr__ <class 'method-wrapper'>\n",
      "__sizeof__ <class 'builtin_function_or_method'>\n",
      "__str__ <class 'method-wrapper'>\n",
      "__subclasshook__ <class 'builtin_function_or_method'>\n",
      "__weakref__ <class 'NoneType'>\n",
      "axis <class 'NoneType'>\n",
      "backward <class 'method'>\n",
      "beta <class 'cupy.ndarray'>\n",
      "build <class 'method'>\n",
      "data_type <class 'type'>\n",
      "epsilon <class 'float'>\n",
      "feature_size <class 'int'>\n",
      "forward <class 'method'>\n",
      "gamma <class 'cupy.ndarray'>\n",
      "get_grads <class 'method'>\n",
      "grad_beta <class 'cupy.ndarray'>\n",
      "grad_gamma <class 'cupy.ndarray'>\n",
      "input_data <class 'cupy.ndarray'>\n",
      "mb <class 'cupy.ndarray'>\n",
      "mb_hat <class 'cupy.ndarray'>\n",
      "mean <class 'cupy.ndarray'>\n",
      "mg <class 'cupy.ndarray'>\n",
      "mg_hat <class 'cupy.ndarray'>\n",
      "normalized_axis <class 'tuple'>\n",
      "normalized_shape <class 'int'>\n",
      "optimizer <class 'transformer_raw.optimizers.Noam'>\n",
      "output_data <class 'cupy.ndarray'>\n",
      "set_encrypted_weights <class 'method'>\n",
      "set_grads <class 'method'>\n",
      "stddev_inv <class 'cupy.ndarray'>\n",
      "update_weights <class 'method'>\n",
      "var <class 'cupy.ndarray'>\n",
      "vb <class 'cupy.ndarray'>\n",
      "vb_hat <class 'cupy.ndarray'>\n",
      "vg <class 'cupy.ndarray'>\n",
      "vg_hat <class 'cupy.ndarray'>\n"
     ]
    }
   ],
   "source": [
    "\n",
    "# encoder.layers[1].self_attention_norm.mean\n",
    "for a in dir(encoder.layers[1].self_attention_norm):\n",
    "    print(a, type(getattr(encoder.layers[1].self_attention_norm, a)))"
   ]
  },
  {
   "cell_type": "code",
   "execution_count": 39,
   "id": "4eecf611",
   "metadata": {},
   "outputs": [
    {
     "data": {
      "text/plain": [
       "256"
      ]
     },
     "execution_count": 39,
     "metadata": {},
     "output_type": "execute_result"
    }
   ],
   "source": [
    "encoder.layers[1].self_attention_norm.gamma.size"
   ]
  },
  {
   "cell_type": "code",
   "execution_count": null,
   "id": "0342350a",
   "metadata": {},
   "outputs": [],
   "source": []
  },
  {
   "cell_type": "code",
   "execution_count": null,
   "id": "e09b23b6",
   "metadata": {},
   "outputs": [],
   "source": []
  }
 ],
 "metadata": {
  "kernelspec": {
   "display_name": "dacn",
   "language": "python",
   "name": "python3"
  },
  "language_info": {
   "codemirror_mode": {
    "name": "ipython",
    "version": 3
   },
   "file_extension": ".py",
   "mimetype": "text/x-python",
   "name": "python",
   "nbconvert_exporter": "python",
   "pygments_lexer": "ipython3",
   "version": "3.8.20"
  }
 },
 "nbformat": 4,
 "nbformat_minor": 5
}
