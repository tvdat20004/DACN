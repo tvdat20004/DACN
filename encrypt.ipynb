{
 "cells": [
  {
   "cell_type": "code",
   "execution_count": 1,
   "id": "4eb90629",
   "metadata": {},
   "outputs": [
    {
     "name": "stdout",
     "output_type": "stream",
     "text": [
      "CuPy is available. Using CuPy for all computations.\n"
     ]
    }
   ],
   "source": [
    "import tenseal as ts\n",
    "import utils\n",
    "import numpy as np\n",
    "try:\n",
    "    import cupy as cp\n",
    "    is_cupy_available = True\n",
    "    print('CuPy is available. Using CuPy for all computations.')\n",
    "except:\n",
    "    is_cupy_available = False\n",
    "    print('CuPy is not available. Switching to NumPy.')\n"
   ]
  },
  {
   "cell_type": "code",
   "execution_count": null,
   "id": "c94016be",
   "metadata": {},
   "outputs": [
    {
     "name": "stdout",
     "output_type": "stream",
     "text": [
      "<class 'tenseal.tensors.ckkstensor.CKKSTensor'>\n"
     ]
    }
   ],
   "source": [
    "\n",
    "context = ts.context_from(utils.read_data(\"./keys/public.txt\"))\n",
    "secret_key = ts.context_from(utils.read_data(\"./keys/secret.txt\")).secret_key()\n",
    "matrix_data = np.array([\n",
    "    [0.1, 0.2, 0.3, 0.4],\n",
    "    [0.5, 0.6, 0.7, 0.8],\n",
    "    [0.9, 1.0, 1.1, 1.2]\n",
    "])\n",
    "\n",
    "def encrypt_matrix(matrix : np.ndarray) -> ts.CKKSTensor:\n",
    "\treturn ts.ckks_tensor(context, matrix.tolist())\n",
    "\n",
    "print(type(encrypt_matrix(matrix_data)))"
   ]
  },
  {
   "cell_type": "code",
   "execution_count": null,
   "id": "3eb462a2",
   "metadata": {},
   "outputs": [],
   "source": []
  }
 ],
 "metadata": {
  "kernelspec": {
   "display_name": "dacn",
   "language": "python",
   "name": "python3"
  },
  "language_info": {
   "codemirror_mode": {
    "name": "ipython",
    "version": 3
   },
   "file_extension": ".py",
   "mimetype": "text/x-python",
   "name": "python",
   "nbconvert_exporter": "python",
   "pygments_lexer": "ipython3",
   "version": "3.8.20"
  }
 },
 "nbformat": 4,
 "nbformat_minor": 5
}
