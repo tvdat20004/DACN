{
 "cells": [
  {
   "cell_type": "code",
   "execution_count": null,
   "id": "2185ec22",
   "metadata": {},
   "outputs": [
    {
     "name": "stdout",
     "output_type": "stream",
     "text": [
      "CuPy is available. Using CuPy for all computations.\n"
     ]
    }
   ],
   "source": [
    "import sys, os\n",
    "from pathlib import Path\n",
    "sys.path.append(str(Path().resolve().parent.parent))\n",
    "import pickle\n",
    "import numpy as np\n",
    "try:\n",
    "\timport cupy as cp\n",
    "\tis_cupy_available = True\n",
    "\tprint('CuPy is available. Using CuPy for all computations.')\n",
    "except:\n",
    "\tis_cupy_available = False\n",
    "\tprint('CuPy is not available. Switching to NumPy.')\n",
    "encoder = pickle.load(open(\"transformer/saved models/seq2seq_model/10/encoder.pkl\", \"rb\"))\n",
    "decoder = pickle.load(open(\"transformer/saved models/seq2seq_model/10/decoder.pkl\", \"rb\"))"
   ]
  },
  {
   "cell_type": "code",
   "execution_count": null,
   "id": "d920f9f3",
   "metadata": {},
   "outputs": [
    {
     "ename": "AttributeError",
     "evalue": "'Dropout' object has no attribute '__name__'",
     "output_type": "error",
     "traceback": [
      "\u001b[0;31m---------------------------------------------------------------------------\u001b[0m",
      "\u001b[0;31mAttributeError\u001b[0m                            Traceback (most recent call last)",
      "Cell \u001b[0;32mIn[13], line 8\u001b[0m\n\u001b[1;32m      6\u001b[0m \u001b[38;5;28;01mif\u001b[39;00m \u001b[38;5;28mtype\u001b[39m(attr) \u001b[38;5;241m==\u001b[39m MethodType:\n\u001b[1;32m      7\u001b[0m     \u001b[38;5;28;01mcontinue\u001b[39;00m\n\u001b[0;32m----> 8\u001b[0m \u001b[38;5;28mprint\u001b[39m(\u001b[43mattr\u001b[49m\u001b[38;5;241;43m.\u001b[39;49m\u001b[38;5;18;43m__name__\u001b[39;49m)\n",
      "\u001b[0;31mAttributeError\u001b[0m: 'Dropout' object has no attribute '__name__'"
     ]
    }
   ],
   "source": [
    "from types import MethodType\n",
    "def recursive_encrypt(obj):\n",
    "\tfor attr in dir(obj):\n",
    "\t\tif attr.startswith(\"__\"):\n",
    "\t\t\tcontinue\n",
    "\t\tattr = getattr(encoder, attr)\n",
    "\t\tif type(attr) == MethodType:\n",
    "\t\t\tcontinue\n",
    "\t\tif is_itera\n"
   ]
  },
  {
   "cell_type": "code",
   "execution_count": null,
   "id": "7f5c9e32",
   "metadata": {},
   "outputs": [],
   "source": []
  }
 ],
 "metadata": {
  "kernelspec": {
   "display_name": "dacn",
   "language": "python",
   "name": "python3"
  },
  "language_info": {
   "codemirror_mode": {
    "name": "ipython",
    "version": 3
   },
   "file_extension": ".py",
   "mimetype": "text/x-python",
   "name": "python",
   "nbconvert_exporter": "python",
   "pygments_lexer": "ipython3",
   "version": "3.8.20"
  }
 },
 "nbformat": 4,
 "nbformat_minor": 5
}
